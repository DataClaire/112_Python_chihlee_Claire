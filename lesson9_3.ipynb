{
 "cells": [
  {
   "cell_type": "code",
   "execution_count": 1,
   "metadata": {},
   "outputs": [],
   "source": [
    "stu1 = [78, 92, 65, 86, 74]\n",
    "stu2 = [78, 95, 63, 72, 74]\n",
    "stu3 = [62, 55, 73, 93, 64]"
   ]
  },
  {
   "cell_type": "code",
   "execution_count": 2,
   "metadata": {},
   "outputs": [
    {
     "data": {
      "text/plain": [
       "[[78, 92, 65, 86, 74], [78, 95, 63, 72, 74], [62, 55, 73, 93, 64]]"
      ]
     },
     "execution_count": 2,
     "metadata": {},
     "output_type": "execute_result"
    }
   ],
   "source": [
    "#用符號建立建立表格資料\n",
    "students = [stu1, stu2, stu3]\n",
    "students"
   ]
  },
  {
   "cell_type": "code",
   "execution_count": 3,
   "metadata": {},
   "outputs": [
    {
     "data": {
      "text/plain": [
       "[[78, 92, 65, 86, 74], [78, 95, 63, 72, 74], [62, 55, 73, 93, 64]]"
      ]
     },
     "execution_count": 3,
     "metadata": {},
     "output_type": "execute_result"
    }
   ],
   "source": [
    "#用實體方法建立表格資料\n",
    "students = list()\n",
    "students.append(stu1)\n",
    "students.append(stu2)\n",
    "students.append(stu3)\n",
    "students"
   ]
  },
  {
   "cell_type": "code",
   "execution_count": 15,
   "metadata": {},
   "outputs": [
    {
     "data": {
      "text/plain": [
       "[56, 99, 90, 77, 59]"
      ]
     },
     "execution_count": 15,
     "metadata": {},
     "output_type": "execute_result"
    }
   ],
   "source": [
    "#建立一個學生的5個分數\n",
    "import random\n",
    "stu = []\n",
    "for _ in range(5): #_:不用列出自訂變數的值\n",
    "    score = random.randint(50,100) #從50到100之間取亂數\n",
    "    stu.append(score)\n",
    "\n",
    "stu"
   ]
  },
  {
   "cell_type": "code",
   "execution_count": 5,
   "metadata": {},
   "outputs": [
    {
     "data": {
      "text/plain": [
       "[[95, 97, 61, 83, 80],\n",
       " [61, 51, 86, 65, 95],\n",
       " [86, 77, 61, 56, 74],\n",
       " [70, 71, 86, 60, 94],\n",
       " [51, 68, 87, 89, 74],\n",
       " [82, 74, 65, 82, 69],\n",
       " [63, 99, 87, 60, 54],\n",
       " [69, 73, 88, 83, 56],\n",
       " [93, 63, 82, 63, 53],\n",
       " [53, 98, 54, 59, 50],\n",
       " [65, 69, 87, 61, 56],\n",
       " [71, 50, 75, 60, 66],\n",
       " [91, 55, 60, 50, 76],\n",
       " [80, 77, 65, 81, 65],\n",
       " [97, 65, 93, 89, 100],\n",
       " [68, 95, 97, 96, 57],\n",
       " [96, 81, 72, 54, 100],\n",
       " [57, 66, 76, 84, 59],\n",
       " [99, 91, 90, 75, 98],\n",
       " [57, 54, 91, 82, 83],\n",
       " [62, 52, 93, 98, 53],\n",
       " [62, 66, 56, 93, 59],\n",
       " [57, 79, 91, 67, 78],\n",
       " [97, 67, 76, 72, 82],\n",
       " [98, 63, 82, 66, 72],\n",
       " [50, 56, 63, 64, 66],\n",
       " [79, 86, 84, 82, 63],\n",
       " [52, 74, 86, 96, 78],\n",
       " [87, 81, 97, 56, 54],\n",
       " [66, 60, 92, 71, 58],\n",
       " [97, 89, 93, 84, 52],\n",
       " [82, 51, 67, 93, 85],\n",
       " [60, 56, 80, 59, 60],\n",
       " [60, 80, 61, 70, 83],\n",
       " [77, 51, 74, 66, 81],\n",
       " [89, 61, 68, 88, 96],\n",
       " [90, 87, 91, 82, 86],\n",
       " [87, 83, 91, 94, 55],\n",
       " [66, 88, 69, 97, 69],\n",
       " [68, 62, 83, 63, 68],\n",
       " [94, 88, 98, 94, 93],\n",
       " [92, 52, 80, 91, 75],\n",
       " [94, 82, 55, 64, 79],\n",
       " [66, 83, 89, 94, 98],\n",
       " [56, 90, 88, 62, 57],\n",
       " [63, 63, 54, 51, 64],\n",
       " [67, 51, 81, 51, 61],\n",
       " [72, 59, 64, 57, 50],\n",
       " [94, 63, 50, 98, 87],\n",
       " [74, 99, 52, 83, 55]]"
      ]
     },
     "execution_count": 5,
     "metadata": {},
     "output_type": "execute_result"
    }
   ],
   "source": [
    "#建立一個學生的5個分數\n",
    "#建立50個學生\n",
    "#建立二維資料\n",
    "\n",
    "students = []\n",
    "for _ in range(50):\n",
    "    stu = []\n",
    "    for _ in range(5):\n",
    "        score = random.randint(50,100) \n",
    "        stu.append(score)\n",
    "    students.append(stu)\n",
    "\n",
    "students"
   ]
  },
  {
   "cell_type": "code",
   "execution_count": 1,
   "metadata": {},
   "outputs": [
    {
     "data": {
      "text/plain": [
       "[[61, 90, 98, 88, 75],\n",
       " [58, 61, 91, 63, 50],\n",
       " [99, 55, 95, 55, 72],\n",
       " [59, 84, 88, 63, 94],\n",
       " [93, 96, 93, 85, 62],\n",
       " [96, 67, 80, 93, 74],\n",
       " [63, 77, 85, 70, 58],\n",
       " [68, 57, 72, 93, 95],\n",
       " [91, 91, 88, 68, 60],\n",
       " [98, 99, 80, 93, 98]]"
      ]
     },
     "execution_count": 1,
     "metadata": {},
     "output_type": "execute_result"
    }
   ],
   "source": [
    "import random\n",
    "def createStudent()->list[int]:\n",
    "    stu = []\n",
    "    for _ in range(5): #_:不用列出自訂變數的值\n",
    "        score = random.randint(50,100) #從50到100之間取亂數\n",
    "        stu.append(score)\n",
    "    return stu\n",
    "\n",
    "def createClasses(numbers:int)->list[list]:\n",
    "    classes = []\n",
    "    for _ in range(numbers):\n",
    "        stu = createStudent()\n",
    "        classes.append(stu)\n",
    "    return classes\n",
    "\n",
    "createClasses(10)\n"
   ]
  }
 ],
 "metadata": {
  "kernelspec": {
   "display_name": "Python 3",
   "language": "python",
   "name": "python3"
  },
  "language_info": {
   "codemirror_mode": {
    "name": "ipython",
    "version": 3
   },
   "file_extension": ".py",
   "mimetype": "text/x-python",
   "name": "python",
   "nbconvert_exporter": "python",
   "pygments_lexer": "ipython3",
   "version": "3.10.13"
  }
 },
 "nbformat": 4,
 "nbformat_minor": 2
}
