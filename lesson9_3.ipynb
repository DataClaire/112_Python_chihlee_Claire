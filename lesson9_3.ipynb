{
 "cells": [
  {
   "cell_type": "code",
   "execution_count": 1,
   "metadata": {},
   "outputs": [],
   "source": [
    "stu1 = [78, 92, 65, 86, 74]\n",
    "stu2 = [78, 95, 63, 72, 74]\n",
    "stu3 = [62, 55, 73, 93, 64]"
   ]
  },
  {
   "cell_type": "code",
   "execution_count": 2,
   "metadata": {},
   "outputs": [
    {
     "data": {
      "text/plain": [
       "[[78, 92, 65, 86, 74], [78, 95, 63, 72, 74], [62, 55, 73, 93, 64]]"
      ]
     },
     "execution_count": 2,
     "metadata": {},
     "output_type": "execute_result"
    }
   ],
   "source": [
    "#用符號建立建立表格資料\n",
    "students = [stu1, stu2, stu3]\n",
    "students"
   ]
  },
  {
   "cell_type": "code",
   "execution_count": 3,
   "metadata": {},
   "outputs": [
    {
     "data": {
      "text/plain": [
       "[[78, 92, 65, 86, 74], [78, 95, 63, 72, 74], [62, 55, 73, 93, 64]]"
      ]
     },
     "execution_count": 3,
     "metadata": {},
     "output_type": "execute_result"
    }
   ],
   "source": [
    "#用實體方法建立表格資料\n",
    "students = list()\n",
    "students.append(stu1)\n",
    "students.append(stu2)\n",
    "students.append(stu3)\n",
    "students"
   ]
  },
  {
   "cell_type": "code",
   "execution_count": 15,
   "metadata": {},
   "outputs": [
    {
     "data": {
      "text/plain": [
       "[56, 99, 90, 77, 59]"
      ]
     },
     "execution_count": 15,
     "metadata": {},
     "output_type": "execute_result"
    }
   ],
   "source": [
    "#建立一個學生的5個分數\n",
    "import random\n",
    "stu = []\n",
    "for _ in range(5): #_:不用列出自訂變數的值\n",
    "    score = random.randint(50,100) #從50到100之間取亂數\n",
    "    stu.append(score)\n",
    "\n",
    "stu"
   ]
  },
  {
   "cell_type": "code",
   "execution_count": 16,
   "metadata": {},
   "outputs": [
    {
     "data": {
      "text/plain": [
       "[[96, 71, 55, 76, 79],\n",
       " [67, 87, 61, 74, 82],\n",
       " [65, 94, 89, 65, 68],\n",
       " [61, 64, 67, 68, 98],\n",
       " [80, 60, 68, 67, 83],\n",
       " [51, 65, 74, 76, 50],\n",
       " [83, 71, 81, 63, 65],\n",
       " [50, 77, 97, 84, 74],\n",
       " [59, 79, 71, 58, 81],\n",
       " [80, 86, 70, 99, 95],\n",
       " [97, 50, 52, 61, 78],\n",
       " [74, 78, 75, 96, 80],\n",
       " [98, 89, 55, 72, 83],\n",
       " [94, 63, 91, 93, 89],\n",
       " [82, 66, 69, 72, 53],\n",
       " [75, 57, 78, 89, 70],\n",
       " [52, 57, 75, 76, 73],\n",
       " [92, 87, 74, 58, 100],\n",
       " [55, 54, 62, 52, 80],\n",
       " [55, 87, 78, 50, 65],\n",
       " [52, 63, 91, 90, 87],\n",
       " [77, 62, 63, 66, 82],\n",
       " [67, 57, 72, 87, 81],\n",
       " [90, 61, 77, 97, 93],\n",
       " [98, 99, 87, 58, 80],\n",
       " [60, 71, 50, 50, 84],\n",
       " [86, 80, 93, 66, 57],\n",
       " [55, 73, 76, 89, 70],\n",
       " [79, 89, 79, 62, 53],\n",
       " [83, 88, 100, 51, 50],\n",
       " [97, 83, 53, 80, 59],\n",
       " [92, 93, 67, 85, 65],\n",
       " [72, 74, 73, 68, 85],\n",
       " [63, 94, 77, 60, 86],\n",
       " [94, 95, 90, 71, 69],\n",
       " [60, 74, 93, 86, 55],\n",
       " [92, 63, 59, 62, 87],\n",
       " [58, 82, 61, 88, 55],\n",
       " [52, 55, 81, 77, 82],\n",
       " [91, 51, 58, 68, 71],\n",
       " [91, 57, 92, 50, 97],\n",
       " [71, 95, 73, 95, 52],\n",
       " [85, 94, 53, 80, 52],\n",
       " [98, 55, 52, 71, 90],\n",
       " [73, 78, 100, 61, 74],\n",
       " [78, 100, 84, 79, 82],\n",
       " [72, 96, 89, 97, 70],\n",
       " [92, 96, 87, 77, 79],\n",
       " [72, 60, 51, 63, 96],\n",
       " [76, 58, 78, 72, 79]]"
      ]
     },
     "execution_count": 16,
     "metadata": {},
     "output_type": "execute_result"
    }
   ],
   "source": [
    "#建立一個學生的5個分數\n",
    "#建立50個學生\n",
    "\n",
    "students = []\n",
    "for _ in range(50):\n",
    "    stu = []\n",
    "    for _ in range(5):\n",
    "        score = random.randint(50,100) \n",
    "        stu.append(score)\n",
    "    students.append(stu)\n",
    "\n",
    "students"
   ]
  },
  {
   "cell_type": "code",
   "execution_count": 10,
   "metadata": {},
   "outputs": [
    {
     "data": {
      "text/plain": [
       "[[70, 65, 86, 70, 70],\n",
       " [62, 60, 76, 87, 52],\n",
       " [76, 50, 59, 82, 53],\n",
       " [100, 62, 74, 96, 67],\n",
       " [71, 73, 87, 84, 87],\n",
       " [68, 52, 90, 94, 77],\n",
       " [90, 99, 66, 58, 90],\n",
       " [50, 78, 53, 63, 86],\n",
       " [78, 58, 92, 67, 89],\n",
       " [59, 93, 72, 68, 78],\n",
       " [80, 85, 78, 78, 64],\n",
       " [64, 60, 73, 91, 87],\n",
       " [73, 55, 99, 65, 58],\n",
       " [78, 71, 73, 58, 62],\n",
       " [60, 90, 96, 64, 91],\n",
       " [83, 86, 90, 81, 89],\n",
       " [97, 79, 71, 50, 60],\n",
       " [98, 99, 51, 91, 99],\n",
       " [82, 93, 51, 72, 63],\n",
       " [89, 97, 79, 73, 57],\n",
       " [51, 85, 84, 75, 52],\n",
       " [75, 85, 60, 77, 70],\n",
       " [78, 97, 89, 78, 66],\n",
       " [65, 86, 71, 51, 66],\n",
       " [96, 97, 74, 76, 73],\n",
       " [89, 60, 70, 63, 90],\n",
       " [56, 91, 85, 82, 79],\n",
       " [89, 73, 63, 76, 84],\n",
       " [98, 65, 67, 93, 85],\n",
       " [78, 87, 68, 81, 64],\n",
       " [88, 61, 96, 87, 60],\n",
       " [57, 60, 66, 79, 52],\n",
       " [96, 72, 66, 65, 88],\n",
       " [86, 87, 97, 90, 50],\n",
       " [74, 82, 75, 92, 53],\n",
       " [79, 63, 71, 93, 75],\n",
       " [95, 92, 72, 96, 66],\n",
       " [78, 97, 61, 76, 98],\n",
       " [95, 62, 88, 69, 76],\n",
       " [82, 53, 61, 60, 51],\n",
       " [96, 91, 52, 62, 94],\n",
       " [79, 60, 75, 95, 62],\n",
       " [91, 92, 64, 58, 56],\n",
       " [68, 90, 68, 75, 70],\n",
       " [100, 64, 69, 97, 77],\n",
       " [52, 85, 93, 86, 81],\n",
       " [50, 94, 91, 50, 78],\n",
       " [99, 53, 80, 79, 57],\n",
       " [82, 100, 81, 95, 56],\n",
       " [94, 76, 62, 56, 85]]"
      ]
     },
     "execution_count": 10,
     "metadata": {},
     "output_type": "execute_result"
    }
   ],
   "source": [
    "import random\n",
    "def createStudent()->list[int]:\n",
    "    stu = []\n",
    "    for _ in range(5): #_:不用列出自訂變數的值\n",
    "        score = random.randint(50,100) #從50到100之間取亂數\n",
    "        stu.append(score)\n",
    "    return stu\n",
    "\n",
    "def createClasses(numbers:int)->list[list]:\n",
    "    classes = []\n",
    "    for _ in range(numbers):\n",
    "        stu = createStudent()\n",
    "        classes.append(stu)\n",
    "    return classes\n",
    "\n",
    "createClasses(50)"
   ]
  },
  {
   "cell_type": "code",
   "execution_count": null,
   "metadata": {},
   "outputs": [],
   "source": [
    "#存檔\n",
    "file = open(\"students.csv\", mode=\"w\", encoding=\"utf-8\", newline=\"\")\n",
    "file.close()"
   ]
  }
 ],
 "metadata": {
  "kernelspec": {
   "display_name": "Python 3",
   "language": "python",
   "name": "python3"
  },
  "language_info": {
   "codemirror_mode": {
    "name": "ipython",
    "version": 3
   },
   "file_extension": ".py",
   "mimetype": "text/x-python",
   "name": "python",
   "nbconvert_exporter": "python",
   "pygments_lexer": "ipython3",
   "version": "3.10.13"
  }
 },
 "nbformat": 4,
 "nbformat_minor": 2
}
