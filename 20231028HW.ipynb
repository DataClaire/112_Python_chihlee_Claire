{
 "cells": [
  {
   "cell_type": "code",
   "execution_count": 2,
   "metadata": {},
   "outputs": [
    {
     "name": "stdout",
     "output_type": "stream",
     "text": [
      "高血壓二期\n"
     ]
    }
   ],
   "source": [
    "s = int(input(f\"請輸入收縮壓:\"))\n",
    "d = int(input(f\"請輸入舒張壓:\"))\n",
    "\n",
    "if s >= 140 or d >= 90:\n",
    "    suggestion= \"高血壓二期\"\n",
    "elif s <= 130 or 80 <= d < 90:\n",
    "    suggestion= \"高血壓一期\"\n",
    "elif s >= 120 and d < 80:\n",
    "    suggestion= \"血壓升高\" \n",
    "elif d < 80:\n",
    "    suggestion= \"正常\"\n",
    "\n",
    "if s >= 130 and d <= 80:\n",
    "    suggestion= \"單純收縮期高血壓\"\n",
    "\n",
    "print(suggestion)\n",
    "\n",
    "\n",
    "    "
   ]
  }
 ],
 "metadata": {
  "kernelspec": {
   "display_name": "Python 3",
   "language": "python",
   "name": "python3"
  },
  "language_info": {
   "codemirror_mode": {
    "name": "ipython",
    "version": 3
   },
   "file_extension": ".py",
   "mimetype": "text/x-python",
   "name": "python",
   "nbconvert_exporter": "python",
   "pygments_lexer": "ipython3",
   "version": "3.10.13"
  }
 },
 "nbformat": 4,
 "nbformat_minor": 2
}
