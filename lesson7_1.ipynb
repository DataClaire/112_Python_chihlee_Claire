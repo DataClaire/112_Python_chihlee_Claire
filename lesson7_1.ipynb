{
 "cells": [
  {
   "cell_type": "code",
   "execution_count": 5,
   "metadata": {},
   "outputs": [],
   "source": [
    "def menu(entree:str, wine:str, dessert:str) -> None:\n",
    "    print(f\"主餐:{entree}\")\n",
    "    print(f\"酒:{wine}\")\n",
    "    print(f\"點心:{dessert}\")"
   ]
  },
  {
   "cell_type": "code",
   "execution_count": 6,
   "metadata": {},
   "outputs": [
    {
     "name": "stdout",
     "output_type": "stream",
     "text": [
      "主餐:雞排\n",
      "酒:紅酒\n",
      "點心:優格\n"
     ]
    }
   ],
   "source": [
    "#引數位置(值)呼叫\n",
    "menu(\"雞排\",\"紅酒\",\"優格\")"
   ]
  },
  {
   "cell_type": "code",
   "execution_count": 8,
   "metadata": {},
   "outputs": [
    {
     "name": "stdout",
     "output_type": "stream",
     "text": [
      "主餐:鱸魚排\n",
      "酒:白酒\n",
      "點心:芒果果凍\n"
     ]
    }
   ],
   "source": [
    "#引數名稱呼叫\n",
    "menu(entree=\"鱸魚排\", wine=\"白酒\", dessert=\"芒果果凍\")"
   ]
  },
  {
   "cell_type": "code",
   "execution_count": 14,
   "metadata": {},
   "outputs": [],
   "source": [
    "#default值已設定時，執行程式時，不寫引數也會自動帶入預設值\n",
    "def menu(entree:str, wine:str, dessert:str=\"優格\") -> None:\n",
    "    print(f\"主餐:{entree}\")\n",
    "    print(f\"酒:{wine}\")\n",
    "    print(f\"點心:{dessert}\")"
   ]
  },
  {
   "cell_type": "code",
   "execution_count": 16,
   "metadata": {},
   "outputs": [
    {
     "name": "stdout",
     "output_type": "stream",
     "text": [
      "主餐:鱸魚排\n",
      "酒:白酒\n",
      "點心:優格\n"
     ]
    }
   ],
   "source": [
    "menu(entree=\"鱸魚排\", wine=\"白酒\")"
   ]
  },
  {
   "cell_type": "code",
   "execution_count": 17,
   "metadata": {},
   "outputs": [
    {
     "name": "stdout",
     "output_type": "stream",
     "text": [
      "主餐:鱸魚排\n",
      "酒:白酒\n",
      "點心:芒果果凍\n"
     ]
    }
   ],
   "source": [
    "#default值已設定時，執行程式時，可以改變預設值\n",
    "#以引數名稱呼叫來改變預設值\n",
    "menu(entree=\"鱸魚排\", wine=\"白酒\", dessert=\"芒果果凍\")"
   ]
  }
 ],
 "metadata": {
  "kernelspec": {
   "display_name": "Python 3",
   "language": "python",
   "name": "python3"
  },
  "language_info": {
   "codemirror_mode": {
    "name": "ipython",
    "version": 3
   },
   "file_extension": ".py",
   "mimetype": "text/x-python",
   "name": "python",
   "nbconvert_exporter": "python",
   "pygments_lexer": "ipython3",
   "version": "3.10.13"
  }
 },
 "nbformat": 4,
 "nbformat_minor": 2
}
