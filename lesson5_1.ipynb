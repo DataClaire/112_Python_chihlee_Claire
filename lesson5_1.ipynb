{
 "cells": [
  {
   "cell_type": "code",
   "execution_count": 2,
   "metadata": {},
   "outputs": [
    {
     "data": {
      "text/plain": [
       "5050"
      ]
     },
     "metadata": {},
     "output_type": "display_data"
    }
   ],
   "source": [
    "n = 0\n",
    "for i in range(1, 101):\n",
    "    n += i\n",
    "display(n)"
   ]
  },
  {
   "cell_type": "code",
   "execution_count": 8,
   "metadata": {},
   "outputs": [
    {
     "name": "stdout",
     "output_type": "stream",
     "text": [
      "1 & 2 & 3 & a & b & c\n"
     ]
    }
   ],
   "source": [
    "print(1,2,3,'a','b','c', sep=\" & \")"
   ]
  },
  {
   "cell_type": "code",
   "execution_count": 17,
   "metadata": {},
   "outputs": [
    {
     "name": "stdout",
     "output_type": "stream",
     "text": [
      "i=1\n",
      "j=9 1\n",
      "2\n",
      "3\n",
      "4\n",
      "5\n",
      "6\n",
      "7\n",
      "8\n",
      "9\n",
      "==============\n",
      "i=2\n",
      "j=9 1\n",
      "2\n",
      "3\n",
      "4\n",
      "5\n",
      "6\n",
      "7\n",
      "8\n",
      "9\n",
      "==============\n",
      "i=3\n",
      "j=9 1\n",
      "2\n",
      "3\n",
      "4\n",
      "5\n",
      "6\n",
      "7\n",
      "8\n",
      "9\n",
      "==============\n",
      "i=4\n",
      "j=9 1\n",
      "2\n",
      "3\n",
      "4\n",
      "5\n",
      "6\n",
      "7\n",
      "8\n",
      "9\n",
      "==============\n",
      "i=5\n",
      "j=9 1\n",
      "2\n",
      "3\n",
      "4\n",
      "5\n",
      "6\n",
      "7\n",
      "8\n",
      "9\n",
      "==============\n",
      "i=6\n",
      "j=9 1\n",
      "2\n",
      "3\n",
      "4\n",
      "5\n",
      "6\n",
      "7\n",
      "8\n",
      "9\n",
      "==============\n",
      "i=7\n",
      "j=9 1\n",
      "2\n",
      "3\n",
      "4\n",
      "5\n",
      "6\n",
      "7\n",
      "8\n",
      "9\n",
      "==============\n",
      "i=8\n",
      "j=9 1\n",
      "2\n",
      "3\n",
      "4\n",
      "5\n",
      "6\n",
      "7\n",
      "8\n",
      "9\n",
      "==============\n",
      "i=9\n",
      "j=9 1\n",
      "2\n",
      "3\n",
      "4\n",
      "5\n",
      "6\n",
      "7\n",
      "8\n",
      "9\n",
      "==============\n"
     ]
    }
   ],
   "source": [
    "for i in range(1,10):\n",
    "    print(f\"i={i}\")\n",
    "    print(f\"{j=}\", end=\" \")\n",
    "    for j in range(1,10):\n",
    "        print(f\"{j}\")\n",
    "    print(\"==============\")"
   ]
  },
  {
   "cell_type": "code",
   "execution_count": 3,
   "metadata": {},
   "outputs": [
    {
     "name": "stdout",
     "output_type": "stream",
     "text": [
      "1\n",
      "4\n",
      "7\n",
      "11\n",
      "18\n",
      "22\n",
      "26\n",
      "30\n",
      "36\n",
      "40\n",
      "43\n",
      "49\n",
      "54\n",
      "57\n",
      "67\n",
      "68\n",
      "73\n",
      "82\n",
      "88\n",
      "93\n",
      "97\n"
     ]
    }
   ],
   "source": [
    "import random\n",
    "n=1\n",
    "while n <=100:\n",
    "    print(n)\n",
    "    n += random.randint(1,10)"
   ]
  },
  {
   "cell_type": "code",
   "execution_count": 2,
   "metadata": {},
   "outputs": [
    {
     "name": "stdout",
     "output_type": "stream",
     "text": [
      "8\n",
      "應用程式結束\n"
     ]
    }
   ],
   "source": [
    "while True:\n",
    "    value = input(\"請輸入整數,輸入(q),離開:\")\n",
    "    if value == \"q\":\n",
    "        break\n",
    "    value = int(value)\n",
    "    if value % 2 == 1:\n",
    "        print(value ** 2)\n",
    "    else:\n",
    "        print(value)\n",
    "print(\"應用程式結束\")"
   ]
  },
  {
   "cell_type": "code",
   "execution_count": 7,
   "metadata": {},
   "outputs": [
    {
     "name": "stdout",
     "output_type": "stream",
     "text": [
      "應用程式結束\n",
      "總共執行3次\n",
      "2\n"
     ]
    }
   ],
   "source": [
    "total = 0\n",
    "num = 0\n",
    "while(True):\n",
    "    value = int(input(\"請輸入第{num+1}數值:\"))\n",
    "    if value < 0:\n",
    "        break\n",
    "        print(\"break之後\")\n",
    "    elif value % 2 == 1:\n",
    "        num += 1\n",
    "        continue\n",
    "        print(\"continue之後\")\n",
    "    else:\n",
    "        num += 1\n",
    "        total += value\n",
    "print(\"應用程式結束\")\n",
    "print(f\"總共執行{num}次\")\n",
    "print(total)      \n"
   ]
  }
 ],
 "metadata": {
  "kernelspec": {
   "display_name": "Python 3",
   "language": "python",
   "name": "python3"
  },
  "language_info": {
   "codemirror_mode": {
    "name": "ipython",
    "version": 3
   },
   "file_extension": ".py",
   "mimetype": "text/x-python",
   "name": "python",
   "nbconvert_exporter": "python",
   "pygments_lexer": "ipython3",
   "version": "3.10.13"
  }
 },
 "nbformat": 4,
 "nbformat_minor": 2
}
