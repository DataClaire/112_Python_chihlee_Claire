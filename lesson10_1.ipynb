{
 "cells": [
  {
   "cell_type": "code",
   "execution_count": 1,
   "metadata": {},
   "outputs": [],
   "source": [
    "import random\n",
    "def createStudent()->list[int]:\n",
    "    stu = []\n",
    "    for _ in range(5): #_:不用列出自訂變數的值\n",
    "        score = random.randint(50,100) #從50到100之間取亂數\n",
    "        stu.append(score)\n",
    "    return stu\n",
    "\n",
    "def createClasses(numbers:int)->list[list]:\n",
    "    classes = []\n",
    "    for _ in range(numbers):\n",
    "        stu = createStudent()\n",
    "        classes.append(stu)\n",
    "    return classes\n",
    "\n",
    "students = createClasses(50)"
   ]
  },
  {
   "cell_type": "code",
   "execution_count": 2,
   "metadata": {},
   "outputs": [],
   "source": [
    "#存檔\n",
    "import csv\n",
    "\n",
    "file = open(\"students.csv\", mode=\"w\", encoding=\"utf-8\", newline=\"\")\n",
    "csv_writer = csv.writer(file)\n",
    "csv_writer.writerow([\"國文\",\"英文\",\"數學\",\"地理\",\"歷史\"])\n",
    "csv_writer.writerows(students)\n",
    "file.close()\n",
    "\n",
    "#csv_writer是實體名稱，可以改成別的，例如abc。"
   ]
  },
  {
   "cell_type": "code",
   "execution_count": 3,
   "metadata": {},
   "outputs": [
    {
     "data": {
      "text/plain": [
       "<_csv.writer at 0x7f079e2693c0>"
      ]
     },
     "execution_count": 3,
     "metadata": {},
     "output_type": "execute_result"
    }
   ],
   "source": [
    "csv_writer"
   ]
  }
 ],
 "metadata": {
  "kernelspec": {
   "display_name": "Python 3",
   "language": "python",
   "name": "python3"
  },
  "language_info": {
   "codemirror_mode": {
    "name": "ipython",
    "version": 3
   },
   "file_extension": ".py",
   "mimetype": "text/x-python",
   "name": "python",
   "nbconvert_exporter": "python",
   "pygments_lexer": "ipython3",
   "version": "3.10.13"
  }
 },
 "nbformat": 4,
 "nbformat_minor": 2
}
